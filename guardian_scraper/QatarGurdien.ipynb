{
 "cells": [
  {
   "cell_type": "code",
   "execution_count": 89,
   "id": "9f893cc2",
   "metadata": {},
   "outputs": [],
   "source": [
    "API_KEY = \"fa25af98-8aed-443e-9803-b848e9912836\"\n"
   ]
  },
  {
   "cell_type": "code",
   "execution_count": 88,
   "id": "23c41238",
   "metadata": {},
   "outputs": [],
   "source": [
    "import pandas as pd\n",
    "import requests\n",
    "from bs4 import BeautifulSoup\n",
    "import csv\n",
    "from datetime import datetime\n",
    "import os\n",
    "\n",
    "\n"
   ]
  },
  {
   "cell_type": "code",
   "execution_count": 90,
   "id": "3ba0457d",
   "metadata": {},
   "outputs": [],
   "source": [
    "url = 'https://content.guardianapis.com/search?q=fifa%20AND%20qatar&from-date=2010-01-01&api-key=fa25af98-8aed-443e-9803-b848e9912836&page='"
   ]
  },
  {
   "cell_type": "code",
   "execution_count": 91,
   "id": "3bd73c40",
   "metadata": {},
   "outputs": [],
   "source": [
    "urllist=[]\n"
   ]
  },
  {
   "cell_type": "code",
   "execution_count": 92,
   "id": "56275ed4",
   "metadata": {},
   "outputs": [],
   "source": [
    "for i in range(1, 179):\n",
    "    base_url = 'https://content.guardianapis.com/search?q=fifa%20AND%20qatar&from-date=2010-01-01&api-key=fa25af98-8aed-443e-9803-b848e9912836&page='\n",
    "    url = f\"{base_url}{i}\"\n",
    "    urllist.append(url)"
   ]
  },
  {
   "cell_type": "code",
   "execution_count": 93,
   "id": "d07200a8",
   "metadata": {},
   "outputs": [],
   "source": [
    "info=[]"
   ]
  },
  {
   "cell_type": "code",
   "execution_count": 94,
   "id": "65b755d0",
   "metadata": {},
   "outputs": [],
   "source": [
    "def json(url1):\n",
    "    response=requests.get(url1)\n",
    "    x=response.json()\n",
    "    info.append(x)"
   ]
  },
  {
   "cell_type": "code",
   "execution_count": 95,
   "id": "c258e558",
   "metadata": {},
   "outputs": [],
   "source": [
    "output=[json(url1) for url1 in urllist]\n"
   ]
  },
  {
   "cell_type": "code",
   "execution_count": 96,
   "id": "7f1b59db",
   "metadata": {},
   "outputs": [],
   "source": [
    "finallist=[]\n"
   ]
  },
  {
   "cell_type": "code",
   "execution_count": 97,
   "id": "beabcfc1",
   "metadata": {},
   "outputs": [],
   "source": [
    "headers = {\n",
    "    'User-Agent': 'Mozilla/5.0 (Macintosh; Intel Mac OS X 10_15_3) AppleWebKit/537.36 (KHTML, like Gecko) Chrome/99.0.4844.84 Safari/537.36'\n",
    "}\n",
    "\n",
    "for y in range(1, 178):\n",
    "    for j in range(0, 10):\n",
    "        url = info[y]['response']['results'][j]['webUrl']\n",
    "        with requests.Session() as session:\n",
    "                response = session.get(url, headers=headers)\n",
    "                #time.sleep(random.uniform(1, 3))  # Add random delay\n",
    "                soup = BeautifulSoup(response.content, 'html.parser')\n",
    "                full_text = \"\"\n",
    "                for element in soup.find_all(['p']):  # Adjust tags accordingly\n",
    "                    full_text += element.get_text(separator=\"\\n\")\n",
    "                published_date = info[y]['response']['results'][j]['webPublicationDate']\n",
    "                # Parse published_date and extract day, month, year\n",
    "                published_datetime = datetime.strptime(published_date, \"%Y-%m-%dT%H:%M:%SZ\")\n",
    "                day = published_datetime.day\n",
    "                month = published_datetime.month\n",
    "                year = published_datetime.year\n",
    "\n",
    "                value = {\n",
    "                    'webtitle': info[y]['response']['results'][j]['webTitle'],\n",
    "                    'apiUrl':info[y]['response']['results'][j]['webUrl'],\n",
    "                    'publisheddate': f\"{day:02d}.{month:02d}.{year}\",  # Format as numbers\n",
    "                    'Text': full_text\n",
    "                }\n",
    "                if value not in finallist:\n",
    "                    finallist.append(value)\n",
    "  \n",
    "            "
   ]
  },
  {
   "cell_type": "code",
   "execution_count": 99,
   "id": "03dacdc4",
   "metadata": {},
   "outputs": [],
   "source": [
    "unique_list_of_dicts = [dict(t) for t in {tuple(d.items()) for d in finallist}]\n"
   ]
  },
  {
   "cell_type": "code",
   "execution_count": 100,
   "id": "2ccee027",
   "metadata": {
    "scrolled": true
   },
   "outputs": [
    {
     "data": {
      "text/html": [
       "<div>\n",
       "<style scoped>\n",
       "    .dataframe tbody tr th:only-of-type {\n",
       "        vertical-align: middle;\n",
       "    }\n",
       "\n",
       "    .dataframe tbody tr th {\n",
       "        vertical-align: top;\n",
       "    }\n",
       "\n",
       "    .dataframe thead th {\n",
       "        text-align: right;\n",
       "    }\n",
       "</style>\n",
       "<table border=\"1\" class=\"dataframe\">\n",
       "  <thead>\n",
       "    <tr style=\"text-align: right;\">\n",
       "      <th></th>\n",
       "      <th>webtitle</th>\n",
       "      <th>apiUrl</th>\n",
       "      <th>publisheddate</th>\n",
       "      <th>Text</th>\n",
       "    </tr>\n",
       "  </thead>\n",
       "  <tbody>\n",
       "    <tr>\n",
       "      <th>0</th>\n",
       "      <td>Revealed: star football pundits promote World ...</td>\n",
       "      <td>https://www.theguardian.com/football/2022/nov/...</td>\n",
       "      <td>20.11.2022</td>\n",
       "      <td>Spirit of rules on use of celebrities in adver...</td>\n",
       "    </tr>\n",
       "    <tr>\n",
       "      <th>1</th>\n",
       "      <td>Fifa ethics chief Michael Garcia calls for gre...</td>\n",
       "      <td>https://www.theguardian.com/football/2014/oct/...</td>\n",
       "      <td>13.10.2014</td>\n",
       "      <td>Garcia has delivered his report on 2018 and 2...</td>\n",
       "    </tr>\n",
       "    <tr>\n",
       "      <th>2</th>\n",
       "      <td>World Cup 2022: news and buildup as the knocko...</td>\n",
       "      <td>https://www.theguardian.com/football/live/2022...</td>\n",
       "      <td>03.12.2022</td>\n",
       "      <td>Brazil suffer double injury blow going into th...</td>\n",
       "    </tr>\n",
       "    <tr>\n",
       "      <th>3</th>\n",
       "      <td>England’s Harry Kane may abandon ‘OneLove’ arm...</td>\n",
       "      <td>https://www.theguardian.com/football/2022/nov/...</td>\n",
       "      <td>20.11.2022</td>\n",
       "      <td>England’s players will take the knee before th...</td>\n",
       "    </tr>\n",
       "    <tr>\n",
       "      <th>4</th>\n",
       "      <td>Welcome to Lusail: Lego-city of the gods and o...</td>\n",
       "      <td>https://www.theguardian.com/football/2022/nov/...</td>\n",
       "      <td>27.11.2022</td>\n",
       "      <td>Andy Warhol would love the venue for the World...</td>\n",
       "    </tr>\n",
       "    <tr>\n",
       "      <th>...</th>\n",
       "      <td>...</td>\n",
       "      <td>...</td>\n",
       "      <td>...</td>\n",
       "      <td>...</td>\n",
       "    </tr>\n",
       "    <tr>\n",
       "      <th>1751</th>\n",
       "      <td>UK parliament calls on Fifa to support exiled ...</td>\n",
       "      <td>https://www.theguardian.com/football/2023/jun/...</td>\n",
       "      <td>20.06.2023</td>\n",
       "      <td>More than 100 parliamentarians have written to...</td>\n",
       "    </tr>\n",
       "    <tr>\n",
       "      <th>1752</th>\n",
       "      <td>Jesús Ferreira scores four as USA breeze past ...</td>\n",
       "      <td>https://www.theguardian.com/football/2022/jun/...</td>\n",
       "      <td>11.06.2022</td>\n",
       "      <td>Jesús Ferreira tied the United States’ interna...</td>\n",
       "    </tr>\n",
       "    <tr>\n",
       "      <th>1753</th>\n",
       "      <td>The Guide #29: From All 4 to Netflix, the one ...</td>\n",
       "      <td>https://www.theguardian.com/culture/2022/apr/0...</td>\n",
       "      <td>08.04.2022</td>\n",
       "      <td>In this week’s newsletter: not sure what to st...</td>\n",
       "    </tr>\n",
       "    <tr>\n",
       "      <th>1754</th>\n",
       "      <td>World Cup 2022 briefing: Louis van Gaal is a m...</td>\n",
       "      <td>https://www.theguardian.com/football/2022/dec/...</td>\n",
       "      <td>09.12.2022</td>\n",
       "      <td>Louis van Gaal’s Dutch team may not play beaut...</td>\n",
       "    </tr>\n",
       "    <tr>\n",
       "      <th>1755</th>\n",
       "      <td>Non monsieur: why Michel Platini's 40-team Wor...</td>\n",
       "      <td>https://www.theguardian.com/football/blog/2013...</td>\n",
       "      <td>30.10.2013</td>\n",
       "      <td>Another day, another wearying proposal to ruin...</td>\n",
       "    </tr>\n",
       "  </tbody>\n",
       "</table>\n",
       "<p>1756 rows × 4 columns</p>\n",
       "</div>"
      ],
      "text/plain": [
       "                                               webtitle  \\\n",
       "0     Revealed: star football pundits promote World ...   \n",
       "1     Fifa ethics chief Michael Garcia calls for gre...   \n",
       "2     World Cup 2022: news and buildup as the knocko...   \n",
       "3     England’s Harry Kane may abandon ‘OneLove’ arm...   \n",
       "4     Welcome to Lusail: Lego-city of the gods and o...   \n",
       "...                                                 ...   \n",
       "1751  UK parliament calls on Fifa to support exiled ...   \n",
       "1752  Jesús Ferreira scores four as USA breeze past ...   \n",
       "1753  The Guide #29: From All 4 to Netflix, the one ...   \n",
       "1754  World Cup 2022 briefing: Louis van Gaal is a m...   \n",
       "1755  Non monsieur: why Michel Platini's 40-team Wor...   \n",
       "\n",
       "                                                 apiUrl publisheddate  \\\n",
       "0     https://www.theguardian.com/football/2022/nov/...    20.11.2022   \n",
       "1     https://www.theguardian.com/football/2014/oct/...    13.10.2014   \n",
       "2     https://www.theguardian.com/football/live/2022...    03.12.2022   \n",
       "3     https://www.theguardian.com/football/2022/nov/...    20.11.2022   \n",
       "4     https://www.theguardian.com/football/2022/nov/...    27.11.2022   \n",
       "...                                                 ...           ...   \n",
       "1751  https://www.theguardian.com/football/2023/jun/...    20.06.2023   \n",
       "1752  https://www.theguardian.com/football/2022/jun/...    11.06.2022   \n",
       "1753  https://www.theguardian.com/culture/2022/apr/0...    08.04.2022   \n",
       "1754  https://www.theguardian.com/football/2022/dec/...    09.12.2022   \n",
       "1755  https://www.theguardian.com/football/blog/2013...    30.10.2013   \n",
       "\n",
       "                                                   Text  \n",
       "0     Spirit of rules on use of celebrities in adver...  \n",
       "1      Garcia has delivered his report on 2018 and 2...  \n",
       "2     Brazil suffer double injury blow going into th...  \n",
       "3     England’s players will take the knee before th...  \n",
       "4     Andy Warhol would love the venue for the World...  \n",
       "...                                                 ...  \n",
       "1751  More than 100 parliamentarians have written to...  \n",
       "1752  Jesús Ferreira tied the United States’ interna...  \n",
       "1753  In this week’s newsletter: not sure what to st...  \n",
       "1754  Louis van Gaal’s Dutch team may not play beaut...  \n",
       "1755  Another day, another wearying proposal to ruin...  \n",
       "\n",
       "[1756 rows x 4 columns]"
      ]
     },
     "execution_count": 100,
     "metadata": {},
     "output_type": "execute_result"
    }
   ],
   "source": [
    "datanew=pd.DataFrame(unique_list_of_dicts)\n",
    "datanew"
   ]
  },
  {
   "cell_type": "code",
   "execution_count": 101,
   "id": "ee7df95b",
   "metadata": {
    "scrolled": true
   },
   "outputs": [],
   "source": [
    "csv_file = \"/Users/tarek/Desktop/Data.csv\"\n",
    "# Customize the export settings\n",
    "custom_header = ['webtitle','apiUrl','publisheddate','Text']\n",
    "\n",
    "datanew.to_csv(csv_file, index=False, na_rep='N/A', header=custom_header, sep=',', quoting=csv.QUOTE_NONNUMERIC)\n"
   ]
  },
  {
   "cell_type": "code",
   "execution_count": null,
   "id": "333d8f3e",
   "metadata": {},
   "outputs": [],
   "source": [
    "csv_file = \"/Users/tarek/Desktop/Names.xlsx\"\n",
    "# Customize the export settings\n",
    "custom_header = ['webtitle','apiUrl','publisheddate','Text']\n",
    "\n",
    "datanew.to_excel(csv_file, index=False, na_rep='N/A', header=custom_header, index_label='ID')"
   ]
  }
 ],
 "metadata": {
  "kernelspec": {
   "display_name": "Python 3 (ipykernel)",
   "language": "python",
   "name": "python3"
  },
  "language_info": {
   "codemirror_mode": {
    "name": "ipython",
    "version": 3
   },
   "file_extension": ".py",
   "mimetype": "text/x-python",
   "name": "python",
   "nbconvert_exporter": "python",
   "pygments_lexer": "ipython3",
   "version": "3.11.5"
  }
 },
 "nbformat": 4,
 "nbformat_minor": 5
}
